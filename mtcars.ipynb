{
  "nbformat": 4,
  "nbformat_minor": 0,
  "metadata": {
    "colab": {
      "name": "mtcars.ipynb",
      "provenance": [],
      "authorship_tag": "ABX9TyO2y8RrZHPDNqsXtxZMQ3e9",
      "include_colab_link": true
    },
    "kernelspec": {
      "name": "python3",
      "display_name": "Python 3"
    }
  },
  "cells": [
    {
      "cell_type": "markdown",
      "metadata": {
        "id": "view-in-github",
        "colab_type": "text"
      },
      "source": [
        "<a href=\"https://colab.research.google.com/github/saifudnm/jagoan_hosting/blob/master/mtcars.ipynb\" target=\"_parent\"><img src=\"https://colab.research.google.com/assets/colab-badge.svg\" alt=\"Open In Colab\"/></a>"
      ]
    },
    {
      "cell_type": "markdown",
      "metadata": {
        "id": "zb5oasX7DZT_",
        "colab_type": "text"
      },
      "source": [
        "# **Dataset mtcars**\n",
        "\n",
        "**mtcars** merupakan dataset yang diambl dari majalah berjudul '1974 Motor Trend US', terdiri dari konsumsi bahan bakar dan 10 aspek dari desain dan kinerja 32 mobil.\n",
        "\n",
        "Dataset **mtcars** memiliki 32 observasi dengan 11 variabel, yaitu:\n",
        "\n",
        "\n",
        "1.   mpg   ->  Miles/(US) gallon\n",
        "2.   cyl   ->  Number of cylinders\n",
        "3.   disp  ->  Displacement (cu.in.)\n",
        "4.   hp    ->  Gross horsepower\n",
        "5.   drat  ->  Rear axle ratio\n",
        "6.   wt    ->  Weight (1000 lbs)\n",
        "7.   qsec  ->  1/4 mile time\n",
        "8.   vs    ->  Engine (0=V-shaped, 1=straight)\n",
        "9.   am    ->  Transmission (0=automatic, 1=manual)\n",
        "10.  gear  ->  Number of forward gears\n",
        "\n",
        "\n",
        "\n",
        "\n",
        "\n",
        "\n",
        "\n",
        "\n",
        "\n",
        "\n"
      ]
    },
    {
      "cell_type": "markdown",
      "metadata": {
        "id": "B478oyuYJlhD",
        "colab_type": "text"
      },
      "source": [
        "## **Import Module**"
      ]
    },
    {
      "cell_type": "code",
      "metadata": {
        "id": "iarK-jRg7hQv",
        "colab_type": "code",
        "colab": {}
      },
      "source": [
        "import numpy as np\n",
        "import pandas as pd\n",
        "import matplotlib.pyplot as plt\n",
        "import matplotlib\n",
        "import seaborn as sns\n",
        "import pylab as py\n",
        "import scipy.stats as stats\n",
        "from sklearn.metrics import r2_score\n",
        "from sklearn.preprocessing import MinMaxScaler\n",
        "from scipy.stats import pearsonr"
      ],
      "execution_count": 0,
      "outputs": []
    },
    {
      "cell_type": "markdown",
      "metadata": {
        "id": "U4cvQcJrQX_v",
        "colab_type": "text"
      },
      "source": [
        "## **Acquire Data**"
      ]
    },
    {
      "cell_type": "code",
      "metadata": {
        "id": "qbetb8O_yg27",
        "colab_type": "code",
        "colab": {}
      },
      "source": [
        "# import dataset from github\n",
        "url = 'https://raw.githubusercontent.com/saifudnm/jagoan_hosting/master/mtcars.csv'\n",
        "data = pd.read_csv(url)"
      ],
      "execution_count": 0,
      "outputs": []
    },
    {
      "cell_type": "code",
      "metadata": {
        "id": "F1nTM3v39rff",
        "colab_type": "code",
        "colab": {
          "base_uri": "https://localhost:8080/",
          "height": 204
        },
        "outputId": "ecd88ca0-6905-4475-f24a-dbea76a72ea5"
      },
      "source": [
        "data.head()"
      ],
      "execution_count": 33,
      "outputs": [
        {
          "output_type": "execute_result",
          "data": {
            "text/html": [
              "<div>\n",
              "<style scoped>\n",
              "    .dataframe tbody tr th:only-of-type {\n",
              "        vertical-align: middle;\n",
              "    }\n",
              "\n",
              "    .dataframe tbody tr th {\n",
              "        vertical-align: top;\n",
              "    }\n",
              "\n",
              "    .dataframe thead th {\n",
              "        text-align: right;\n",
              "    }\n",
              "</style>\n",
              "<table border=\"1\" class=\"dataframe\">\n",
              "  <thead>\n",
              "    <tr style=\"text-align: right;\">\n",
              "      <th></th>\n",
              "      <th>Cars</th>\n",
              "      <th>mpg</th>\n",
              "      <th>cyl</th>\n",
              "      <th>disp</th>\n",
              "      <th>hp</th>\n",
              "      <th>drat</th>\n",
              "      <th>wt</th>\n",
              "      <th>qsec</th>\n",
              "      <th>vs</th>\n",
              "      <th>am</th>\n",
              "      <th>gear</th>\n",
              "      <th>carb</th>\n",
              "    </tr>\n",
              "  </thead>\n",
              "  <tbody>\n",
              "    <tr>\n",
              "      <th>0</th>\n",
              "      <td>Mazda RX4</td>\n",
              "      <td>21.0</td>\n",
              "      <td>6</td>\n",
              "      <td>160.0</td>\n",
              "      <td>110</td>\n",
              "      <td>3.90</td>\n",
              "      <td>2.620</td>\n",
              "      <td>16.46</td>\n",
              "      <td>0</td>\n",
              "      <td>1</td>\n",
              "      <td>4</td>\n",
              "      <td>4</td>\n",
              "    </tr>\n",
              "    <tr>\n",
              "      <th>1</th>\n",
              "      <td>Mazda RX4 Wag</td>\n",
              "      <td>21.0</td>\n",
              "      <td>6</td>\n",
              "      <td>160.0</td>\n",
              "      <td>110</td>\n",
              "      <td>3.90</td>\n",
              "      <td>2.875</td>\n",
              "      <td>17.02</td>\n",
              "      <td>0</td>\n",
              "      <td>1</td>\n",
              "      <td>4</td>\n",
              "      <td>4</td>\n",
              "    </tr>\n",
              "    <tr>\n",
              "      <th>2</th>\n",
              "      <td>Datsun 710</td>\n",
              "      <td>22.8</td>\n",
              "      <td>4</td>\n",
              "      <td>108.0</td>\n",
              "      <td>93</td>\n",
              "      <td>3.85</td>\n",
              "      <td>2.320</td>\n",
              "      <td>18.61</td>\n",
              "      <td>1</td>\n",
              "      <td>1</td>\n",
              "      <td>4</td>\n",
              "      <td>1</td>\n",
              "    </tr>\n",
              "    <tr>\n",
              "      <th>3</th>\n",
              "      <td>Hornet 4 Drive</td>\n",
              "      <td>21.4</td>\n",
              "      <td>6</td>\n",
              "      <td>258.0</td>\n",
              "      <td>110</td>\n",
              "      <td>3.08</td>\n",
              "      <td>3.215</td>\n",
              "      <td>19.44</td>\n",
              "      <td>1</td>\n",
              "      <td>0</td>\n",
              "      <td>3</td>\n",
              "      <td>1</td>\n",
              "    </tr>\n",
              "    <tr>\n",
              "      <th>4</th>\n",
              "      <td>Hornet Sportabout</td>\n",
              "      <td>18.7</td>\n",
              "      <td>8</td>\n",
              "      <td>360.0</td>\n",
              "      <td>175</td>\n",
              "      <td>3.15</td>\n",
              "      <td>3.440</td>\n",
              "      <td>17.02</td>\n",
              "      <td>0</td>\n",
              "      <td>0</td>\n",
              "      <td>3</td>\n",
              "      <td>2</td>\n",
              "    </tr>\n",
              "  </tbody>\n",
              "</table>\n",
              "</div>"
            ],
            "text/plain": [
              "                Cars   mpg  cyl   disp   hp  ...   qsec  vs  am  gear  carb\n",
              "0          Mazda RX4  21.0    6  160.0  110  ...  16.46   0   1     4     4\n",
              "1      Mazda RX4 Wag  21.0    6  160.0  110  ...  17.02   0   1     4     4\n",
              "2         Datsun 710  22.8    4  108.0   93  ...  18.61   1   1     4     1\n",
              "3     Hornet 4 Drive  21.4    6  258.0  110  ...  19.44   1   0     3     1\n",
              "4  Hornet Sportabout  18.7    8  360.0  175  ...  17.02   0   0     3     2\n",
              "\n",
              "[5 rows x 12 columns]"
            ]
          },
          "metadata": {
            "tags": []
          },
          "execution_count": 33
        }
      ]
    },
    {
      "cell_type": "markdown",
      "metadata": {
        "id": "e3tu06RPPxI3",
        "colab_type": "text"
      },
      "source": [
        "## **Analyze by Describing Data**"
      ]
    },
    {
      "cell_type": "markdown",
      "metadata": {
        "id": "_75HIEaWQmhC",
        "colab_type": "text"
      },
      "source": [
        "**Adakah variabel yang mengandung blank, null, atau empty values?**\n",
        "\n",
        "Tidak ada."
      ]
    },
    {
      "cell_type": "code",
      "metadata": {
        "id": "Z3obfc7TQ6Mk",
        "colab_type": "code",
        "colab": {
          "base_uri": "https://localhost:8080/",
          "height": 340
        },
        "outputId": "22587355-cbbc-4606-e7bc-396862e6c0ac"
      },
      "source": [
        "data.info()"
      ],
      "execution_count": 34,
      "outputs": [
        {
          "output_type": "stream",
          "text": [
            "<class 'pandas.core.frame.DataFrame'>\n",
            "RangeIndex: 32 entries, 0 to 31\n",
            "Data columns (total 12 columns):\n",
            " #   Column  Non-Null Count  Dtype  \n",
            "---  ------  --------------  -----  \n",
            " 0   Cars    32 non-null     object \n",
            " 1   mpg     32 non-null     float64\n",
            " 2   cyl     32 non-null     int64  \n",
            " 3   disp    32 non-null     float64\n",
            " 4   hp      32 non-null     int64  \n",
            " 5   drat    32 non-null     float64\n",
            " 6   wt      32 non-null     float64\n",
            " 7   qsec    32 non-null     float64\n",
            " 8   vs      32 non-null     int64  \n",
            " 9   am      32 non-null     int64  \n",
            " 10  gear    32 non-null     int64  \n",
            " 11  carb    32 non-null     int64  \n",
            "dtypes: float64(5), int64(6), object(1)\n",
            "memory usage: 3.1+ KB\n"
          ],
          "name": "stdout"
        }
      ]
    },
    {
      "cell_type": "markdown",
      "metadata": {
        "id": "mXbvcdllgih5",
        "colab_type": "text"
      },
      "source": [
        ""
      ]
    },
    {
      "cell_type": "markdown",
      "metadata": {
        "id": "4y2BWVwz-nKH",
        "colab_type": "text"
      },
      "source": [
        "## **Add Column**"
      ]
    },
    {
      "cell_type": "markdown",
      "metadata": {
        "id": "jO0nqIAwgkiz",
        "colab_type": "text"
      },
      "source": [
        "Menambahkan kolom baru dengan nama **mpg_level** berdasarkan variabel **mpg** dengan ketentuan sebagai berikut :\n",
        "\n",
        "*   Jika **mpg** < 20 maka **mpg_level** = low\n",
        "*   Jika **mpg** berkisar 20-30 maka **mpg_level** = medium\n",
        "*   Jika **mpg** > 30 maka **mpg_level** = hard\n",
        "\n",
        "\n",
        "\n"
      ]
    },
    {
      "cell_type": "code",
      "metadata": {
        "id": "k0WGkuGU-YRk",
        "colab_type": "code",
        "colab": {}
      },
      "source": [
        "# create funct mpg_level\n",
        "def mpg_level():\n",
        "    value_list = []\n",
        "    for i in range(len(data)):\n",
        "        if data.loc[i, 'mpg'] < 20:\n",
        "            value_list.append('low')\n",
        "        elif data.loc[i, 'mpg'] in range(20,31):\n",
        "            value_list.append('medium')\n",
        "        else:\n",
        "            value_list.append('hard')\n",
        "    return value_list"
      ],
      "execution_count": 0,
      "outputs": []
    },
    {
      "cell_type": "code",
      "metadata": {
        "id": "WLMPTRn9fuDB",
        "colab_type": "code",
        "colab": {
          "base_uri": "https://localhost:8080/",
          "height": 204
        },
        "outputId": "765421ff-2449-44f4-b217-0533e547ac77"
      },
      "source": [
        "# create mpg_level column & fill with value from mpg_level func\n",
        "data['mpg_level'] = pd.Series(mpg_level(), index=data.index)\n",
        "\n",
        "# test\n",
        "data.head()"
      ],
      "execution_count": 5,
      "outputs": [
        {
          "output_type": "execute_result",
          "data": {
            "text/html": [
              "<div>\n",
              "<style scoped>\n",
              "    .dataframe tbody tr th:only-of-type {\n",
              "        vertical-align: middle;\n",
              "    }\n",
              "\n",
              "    .dataframe tbody tr th {\n",
              "        vertical-align: top;\n",
              "    }\n",
              "\n",
              "    .dataframe thead th {\n",
              "        text-align: right;\n",
              "    }\n",
              "</style>\n",
              "<table border=\"1\" class=\"dataframe\">\n",
              "  <thead>\n",
              "    <tr style=\"text-align: right;\">\n",
              "      <th></th>\n",
              "      <th>Cars</th>\n",
              "      <th>mpg</th>\n",
              "      <th>cyl</th>\n",
              "      <th>disp</th>\n",
              "      <th>hp</th>\n",
              "      <th>drat</th>\n",
              "      <th>wt</th>\n",
              "      <th>qsec</th>\n",
              "      <th>vs</th>\n",
              "      <th>am</th>\n",
              "      <th>gear</th>\n",
              "      <th>carb</th>\n",
              "      <th>mpg_level</th>\n",
              "    </tr>\n",
              "  </thead>\n",
              "  <tbody>\n",
              "    <tr>\n",
              "      <th>0</th>\n",
              "      <td>Mazda RX4</td>\n",
              "      <td>21.0</td>\n",
              "      <td>6</td>\n",
              "      <td>160.0</td>\n",
              "      <td>110</td>\n",
              "      <td>3.90</td>\n",
              "      <td>2.620</td>\n",
              "      <td>16.46</td>\n",
              "      <td>0</td>\n",
              "      <td>1</td>\n",
              "      <td>4</td>\n",
              "      <td>4</td>\n",
              "      <td>medium</td>\n",
              "    </tr>\n",
              "    <tr>\n",
              "      <th>1</th>\n",
              "      <td>Mazda RX4 Wag</td>\n",
              "      <td>21.0</td>\n",
              "      <td>6</td>\n",
              "      <td>160.0</td>\n",
              "      <td>110</td>\n",
              "      <td>3.90</td>\n",
              "      <td>2.875</td>\n",
              "      <td>17.02</td>\n",
              "      <td>0</td>\n",
              "      <td>1</td>\n",
              "      <td>4</td>\n",
              "      <td>4</td>\n",
              "      <td>medium</td>\n",
              "    </tr>\n",
              "    <tr>\n",
              "      <th>2</th>\n",
              "      <td>Datsun 710</td>\n",
              "      <td>22.8</td>\n",
              "      <td>4</td>\n",
              "      <td>108.0</td>\n",
              "      <td>93</td>\n",
              "      <td>3.85</td>\n",
              "      <td>2.320</td>\n",
              "      <td>18.61</td>\n",
              "      <td>1</td>\n",
              "      <td>1</td>\n",
              "      <td>4</td>\n",
              "      <td>1</td>\n",
              "      <td>hard</td>\n",
              "    </tr>\n",
              "    <tr>\n",
              "      <th>3</th>\n",
              "      <td>Hornet 4 Drive</td>\n",
              "      <td>21.4</td>\n",
              "      <td>6</td>\n",
              "      <td>258.0</td>\n",
              "      <td>110</td>\n",
              "      <td>3.08</td>\n",
              "      <td>3.215</td>\n",
              "      <td>19.44</td>\n",
              "      <td>1</td>\n",
              "      <td>0</td>\n",
              "      <td>3</td>\n",
              "      <td>1</td>\n",
              "      <td>hard</td>\n",
              "    </tr>\n",
              "    <tr>\n",
              "      <th>4</th>\n",
              "      <td>Hornet Sportabout</td>\n",
              "      <td>18.7</td>\n",
              "      <td>8</td>\n",
              "      <td>360.0</td>\n",
              "      <td>175</td>\n",
              "      <td>3.15</td>\n",
              "      <td>3.440</td>\n",
              "      <td>17.02</td>\n",
              "      <td>0</td>\n",
              "      <td>0</td>\n",
              "      <td>3</td>\n",
              "      <td>2</td>\n",
              "      <td>low</td>\n",
              "    </tr>\n",
              "  </tbody>\n",
              "</table>\n",
              "</div>"
            ],
            "text/plain": [
              "                Cars   mpg  cyl   disp   hp  ...  vs  am  gear  carb  mpg_level\n",
              "0          Mazda RX4  21.0    6  160.0  110  ...   0   1     4     4     medium\n",
              "1      Mazda RX4 Wag  21.0    6  160.0  110  ...   0   1     4     4     medium\n",
              "2         Datsun 710  22.8    4  108.0   93  ...   1   1     4     1       hard\n",
              "3     Hornet 4 Drive  21.4    6  258.0  110  ...   1   0     3     1       hard\n",
              "4  Hornet Sportabout  18.7    8  360.0  175  ...   0   0     3     2        low\n",
              "\n",
              "[5 rows x 13 columns]"
            ]
          },
          "metadata": {
            "tags": []
          },
          "execution_count": 5
        }
      ]
    },
    {
      "cell_type": "markdown",
      "metadata": {
        "id": "eECOIR0bgHx7",
        "colab_type": "text"
      },
      "source": [
        "## **Analyze by Visualizing Data**"
      ]
    },
    {
      "cell_type": "markdown",
      "metadata": {
        "id": "W26bn6LoBg2J",
        "colab_type": "text"
      },
      "source": [
        "### **HEATMAP**\n",
        "\n",
        "Visualisasi dengan **heatmap** matriks korelasi ini bertujuan untuk mempermudah user untuk melihat korelasi atau hubungan antar variabel yang bersifat kuantitatif disertai dengan pewarnaan."
      ]
    },
    {
      "cell_type": "markdown",
      "metadata": {
        "id": "dBzuWbmTiCXD",
        "colab_type": "text"
      },
      "source": [
        "Membuat fungsi **heatmap()** dan **annotate_heatmap()** terlebih dahulu."
      ]
    },
    {
      "cell_type": "code",
      "metadata": {
        "id": "W1gjUfnyAkOf",
        "colab_type": "code",
        "colab": {}
      },
      "source": [
        "def heatmap(data, row_labels, col_labels, ax=None,\n",
        "            cbar_kw={}, cbarlabel=\"\", **kwargs):\n",
        "\n",
        "    if not ax:\n",
        "        ax = plt.gca()\n",
        "\n",
        "    # Plot the heatmap\n",
        "    im = ax.imshow(data, **kwargs)\n",
        "\n",
        "    # Create colorbar\n",
        "    cbar = ax.figure.colorbar(im, ax=ax, **cbar_kw)\n",
        "    cbar.ax.set_ylabel(cbarlabel, rotation=-90, va=\"bottom\")\n",
        "\n",
        "    # We want to show all ticks...\n",
        "    ax.set_xticks(np.arange(data.shape[1]))\n",
        "    ax.set_yticks(np.arange(data.shape[0]))\n",
        "    # ... and label them with the respective list entries.\n",
        "    ax.set_xticklabels(col_labels)\n",
        "    ax.set_yticklabels(row_labels)\n",
        "\n",
        "    # Let the horizontal axes labeling appear on top.\n",
        "    ax.tick_params(top=True, bottom=False,\n",
        "                   labeltop=True, labelbottom=False)\n",
        "\n",
        "    # Rotate the tick labels and set their alignment.\n",
        "    plt.setp(ax.get_xticklabels(), rotation=-30, ha=\"right\",\n",
        "             rotation_mode=\"anchor\")\n",
        "\n",
        "    # Turn spines off and create white grid.\n",
        "    for edge, spine in ax.spines.items():\n",
        "        spine.set_visible(False)\n",
        "\n",
        "    ax.set_xticks(np.arange(data.shape[1]+1)-.5, minor=True)\n",
        "    ax.set_yticks(np.arange(data.shape[0]+1)-.5, minor=True)\n",
        "    ax.grid(which=\"minor\", color=\"w\", linestyle='-', linewidth=3)\n",
        "    ax.tick_params(which=\"minor\", bottom=False, left=False)\n",
        "\n",
        "    return im, cbar\n"
      ],
      "execution_count": 0,
      "outputs": []
    },
    {
      "cell_type": "code",
      "metadata": {
        "id": "voYU4KjFhmpk",
        "colab_type": "code",
        "colab": {}
      },
      "source": [
        "def annotate_heatmap(im, data=None, valfmt=\"{x:.2f}\",\n",
        "                     textcolors=[\"black\", \"white\"],\n",
        "                     threshold=None, **textkw):\n",
        "\n",
        "    if not isinstance(data, (list, np.ndarray)):\n",
        "        data = im.get_array()\n",
        "\n",
        "    # Normalize the threshold to the images color range.\n",
        "    if threshold is not None:\n",
        "        threshold = im.norm(threshold)\n",
        "    else:\n",
        "        threshold = im.norm(data.max())/2.\n",
        "\n",
        "    # Set default alignment to center, but allow it to be\n",
        "    # overwritten by textkw.\n",
        "    kw = dict(horizontalalignment=\"center\",\n",
        "              verticalalignment=\"center\")\n",
        "    kw.update(textkw)\n",
        "\n",
        "    # Get the formatter in case a string is supplied\n",
        "    if isinstance(valfmt, str):\n",
        "        valfmt = matplotlib.ticker.StrMethodFormatter(valfmt)\n",
        "\n",
        "    # Loop over the data and create a `Text` for each \"pixel\".\n",
        "    # Change the text's color depending on the data.\n",
        "    texts = []\n",
        "    for i in range(data.shape[0]):\n",
        "        for j in range(data.shape[1]):\n",
        "            kw.update(color=textcolors[int(im.norm(data[i, j]) > threshold)])\n",
        "            text = im.axes.text(j, i, valfmt(data[i, j], None), **kw)\n",
        "            texts.append(text)\n",
        "\n",
        "    return texts"
      ],
      "execution_count": 0,
      "outputs": []
    },
    {
      "cell_type": "markdown",
      "metadata": {
        "id": "6oHWWQ76ikzs",
        "colab_type": "text"
      },
      "source": [
        "Membuat korelasi antar variabel dengan metode *Pearson*, yaitu menghitung korelasi menggunakan variasi data."
      ]
    },
    {
      "cell_type": "code",
      "metadata": {
        "id": "7tljzoqjhhuF",
        "colab_type": "code",
        "colab": {}
      },
      "source": [
        "data_col = list(data.iloc[:,1:-1].columns)\n",
        "correlation = data.iloc[:,1:-1].corr(method='pearson').values"
      ],
      "execution_count": 0,
      "outputs": []
    },
    {
      "cell_type": "markdown",
      "metadata": {
        "id": "GBYh28nOkUtV",
        "colab_type": "text"
      },
      "source": [
        "Memvisualisasikan nilai korelasi antar variabel yang telah dibuat sebelumnya menggunakan **heatmap**. \n",
        "\n",
        "Dari visualisasi di bawah dapat diketahui bahwa varibel **mpg** mempunyai korelasi berlawanan (negatif) yang erat dengan variabel **cyl** sebesar -0.9. Artinya, semakin sedikit cylinder yang digunakan maka mobil akan memiliki komsumsi bahan bakar yang irit."
      ]
    },
    {
      "cell_type": "code",
      "metadata": {
        "id": "XvoMW-r9kVta",
        "colab_type": "code",
        "colab": {
          "base_uri": "https://localhost:8080/",
          "height": 297
        },
        "outputId": "498356fa-cd1e-4061-d8c3-e8908dfb0562"
      },
      "source": [
        "fig, ax = plt.subplots()\n",
        "im, cbar = heatmap(correlation, data_col, data_col, ax=ax,\n",
        "                   cmap=\"YlGn\", cbarlabel=\"Correlation\")\n",
        "texts = annotate_heatmap(im, valfmt=\"{x:.1f}\")\n",
        "fig.tight_layout()\n",
        "plt.show()"
      ],
      "execution_count": 9,
      "outputs": [
        {
          "output_type": "display_data",
          "data": {
            "image/png": "[encoded data removed]",
            "text/plain": [
              "<Figure size 432x288 with 2 Axes>"
            ]
          },
          "metadata": {
            "tags": [],
            "needs_background": "light"
          }
        }
      ]
    },
    {
      "cell_type": "markdown",
      "metadata": {
        "id": "2NTye2DS4MDa",
        "colab_type": "text"
      },
      "source": [
        "### **BOXPLOT, Q-Q PLOT, HISTOGRAM & DENSITY PLOT**\n",
        "\n",
        "Visualisasi menggunakan 3 graph tersebut bertujuan untuk mengetahui persebaran nilai atau distribusi dari suatu variabel. Dari hasil visualisasi 3 graph di bawah yaitu menunjukkan bahwa variabel **mpg** mempunyai distribusi yang normal."
      ]
    },
    {
      "cell_type": "markdown",
      "metadata": {
        "id": "zpqEUpsH5gVs",
        "colab_type": "text"
      },
      "source": [
        "**Boxplot**"
      ]
    },
    {
      "cell_type": "code",
      "metadata": {
        "id": "3oqbCsB4BwY8",
        "colab_type": "code",
        "colab": {
          "base_uri": "https://localhost:8080/",
          "height": 318
        },
        "outputId": "3f7d19a3-965b-4da2-d54b-a4d975b9d317"
      },
      "source": [
        "data.boxplot(column='mpg', by='cyl')"
      ],
      "execution_count": 27,
      "outputs": [
        {
          "output_type": "execute_result",
          "data": {
            "text/plain": [
              "<matplotlib.axes._subplots.AxesSubplot at 0x7f4d754b1d68>"
            ]
          },
          "metadata": {
            "tags": []
          },
          "execution_count": 27
        },
        {
          "output_type": "display_data",
          "data": {
            "image/png": "[encoded data removed]",
            "text/plain": [
              "<Figure size 432x288 with 1 Axes>"
            ]
          },
          "metadata": {
            "tags": [],
            "needs_background": "light"
          }
        }
      ]
    },
    {
      "cell_type": "markdown",
      "metadata": {
        "id": "seIghFdZ5pL_",
        "colab_type": "text"
      },
      "source": [
        "**Q-Q Plot**"
      ]
    },
    {
      "cell_type": "code",
      "metadata": {
        "id": "jHVysqPjCIkI",
        "colab_type": "code",
        "colab": {
          "base_uri": "https://localhost:8080/",
          "height": 295
        },
        "outputId": "76c7ca72-17f4-440f-c7c5-0db72c89afeb"
      },
      "source": [
        "stats.probplot(data['mpg'], dist='norm', plot=py)\n",
        "py.show()"
      ],
      "execution_count": 28,
      "outputs": [
        {
          "output_type": "display_data",
          "data": {
            "image/png": "[encoded data removed]",
            "text/plain": [
              "<Figure size 432x288 with 1 Axes>"
            ]
          },
          "metadata": {
            "tags": [],
            "needs_background": "light"
          }
        }
      ]
    },
    {
      "cell_type": "markdown",
      "metadata": {
        "id": "Rs9bkEUw9Fnx",
        "colab_type": "text"
      },
      "source": [
        "**Histogram & Density Plot**"
      ]
    },
    {
      "cell_type": "code",
      "metadata": {
        "id": "TtRi1AzqCN-1",
        "colab_type": "code",
        "colab": {
          "base_uri": "https://localhost:8080/",
          "height": 296
        },
        "outputId": "91750e82-fa7b-4ee5-9898-6a3c197cb6f7"
      },
      "source": [
        "sns.distplot(data['mpg'], hist=True, kde=True,\n",
        "             color='darkblue',\n",
        "             hist_kws={'edgecolor':'black'},\n",
        "             kde_kws={'linewidth':4})"
      ],
      "execution_count": 28,
      "outputs": [
        {
          "output_type": "execute_result",
          "data": {
            "text/plain": [
              "<matplotlib.axes._subplots.AxesSubplot at 0x7fd99ee499e8>"
            ]
          },
          "metadata": {
            "tags": []
          },
          "execution_count": 28
        },
        {
          "output_type": "display_data",
          "data": {
            "image/png": "[encoded data removed]",
            "text/plain": [
              "<Figure size 432x288 with 1 Axes>"
            ]
          },
          "metadata": {
            "tags": [],
            "needs_background": "light"
          }
        }
      ]
    },
    {
      "cell_type": "markdown",
      "metadata": {
        "id": "VeWFuP0tH4T2",
        "colab_type": "text"
      },
      "source": [
        "### **SCATTER PLOT**\n",
        "\n",
        "Visualisasi dengan **scatter plot** ini bertujuan untuk menunjukkan kemungkinan hubungan atau korelasi antar 2 pasang variabel dan menunjukkan kerekatan hubungan antar 2 pasang variabel tersebut yang diwujudkan sebagai koefisien korelasi.\n",
        "\n"
      ]
    },
    {
      "cell_type": "markdown",
      "metadata": {
        "id": "BOjDJ4kAN1zi",
        "colab_type": "text"
      },
      "source": [
        "**Apakah ada hubungan antara variabel 'mpg' dengan variabel 'hp'?**\n",
        "\n",
        "Pada visualisasi sebelumnya menggunakan **heatmap** menunjukkan bahwa variabel **mpg** dan variabel **hp** memiliki korelasi negatif yang erat yaitu sebesar -0.8. Dengan **scatter plot** ini, korelasi antar 2 variabel tersebut akan dibuktikan dengan lebih mendalam."
      ]
    },
    {
      "cell_type": "code",
      "metadata": {
        "id": "RSxU4vahR4s_",
        "colab_type": "code",
        "colab": {
          "base_uri": "https://localhost:8080/",
          "height": 283
        },
        "outputId": "80c44b77-bc61-4315-8aca-e56572aeee4b"
      },
      "source": [
        "plt.scatter(data['hp'], data['mpg'], alpha=0.6)\n",
        "plt.xlabel('hp')\n",
        "plt.ylabel('mpg')\n",
        "plt.show()"
      ],
      "execution_count": 31,
      "outputs": [
        {
          "output_type": "display_data",
          "data": {
            "image/png": "[encoded data removed]",
            "text/plain": [
              "<Figure size 432x288 with 1 Axes>"
            ]
          },
          "metadata": {
            "tags": [],
            "needs_background": "light"
          }
        }
      ]
    },
    {
      "cell_type": "markdown",
      "metadata": {
        "id": "m-ASk6l4Ttni",
        "colab_type": "text"
      },
      "source": [
        "**Scatter plot** di atas menunjukkan bahwa variabel **mpg** memang memiliki hubungan yang erat dengan variabel **hp**. Artinya, semakin besar horsepower pada suatu mobil membutuhkan konsumsi bahan bakar yang tinggi sehingga jarak yang dapat ditempuh untuk 1 gallon bahan bakar semakin pendek.\n",
        "\n",
        "Dari **scatter plot** tersebut juga menunjukkan bahwa tren antara **horsepower** dengan **mpg** berupa polynomial. Karena nilai R Square (R2) dihitung menggunakan polynomial line akan semakin mendekati nilai 1 dari menggunakan linear line."
      ]
    },
    {
      "cell_type": "markdown",
      "metadata": {
        "id": "tj-z0SboXsjI",
        "colab_type": "text"
      },
      "source": [
        "**Linear**"
      ]
    },
    {
      "cell_type": "code",
      "metadata": {
        "id": "GBC6_eSXJgHT",
        "colab_type": "code",
        "colab": {}
      },
      "source": [
        "mymodel = np.poly1d(np.polyfit(data['hp'], data['mpg'], 1))\n",
        "myline = np.linspace(min(data['hp']),max(data['hp']), 100)"
      ],
      "execution_count": 0,
      "outputs": []
    },
    {
      "cell_type": "code",
      "metadata": {
        "id": "CHXAIzmnWtmO",
        "colab_type": "code",
        "colab": {
          "base_uri": "https://localhost:8080/",
          "height": 282
        },
        "outputId": "dd6513ba-5750-49f7-d333-6ce6cce16411"
      },
      "source": [
        "plt.plot(myline, mymodel(myline))\n",
        "plt.scatter(data['hp'], data['mpg'], alpha=0.6)\n",
        "plt.xlabel('hp')\n",
        "plt.ylabel('mpg')\n",
        "plt.show()"
      ],
      "execution_count": 35,
      "outputs": [
        {
          "output_type": "display_data",
          "data": {
            "image/png": "[encoded data removed]",
            "text/plain": [
              "<Figure size 432x288 with 1 Axes>"
            ]
          },
          "metadata": {
            "tags": [],
            "needs_background": "light"
          }
        }
      ]
    },
    {
      "cell_type": "code",
      "metadata": {
        "id": "27bdQLD1WySZ",
        "colab_type": "code",
        "colab": {
          "base_uri": "https://localhost:8080/",
          "height": 34
        },
        "outputId": "062be121-e899-4212-cfd9-dedd4ac455a2"
      },
      "source": [
        "print(r2_score(data['mpg'], mymodel(data['hp'])))"
      ],
      "execution_count": 36,
      "outputs": [
        {
          "output_type": "stream",
          "text": [
            "0.6024373414239341\n"
          ],
          "name": "stdout"
        }
      ]
    },
    {
      "cell_type": "markdown",
      "metadata": {
        "id": "bbd4PDNKXyqB",
        "colab_type": "text"
      },
      "source": [
        "**Polynomial**"
      ]
    },
    {
      "cell_type": "code",
      "metadata": {
        "id": "_JSZoqhlX5U6",
        "colab_type": "code",
        "colab": {}
      },
      "source": [
        "mymodel = np.poly1d(np.polyfit(data['hp'], data['mpg'], 3))\n",
        "myline = np.linspace(min(data['hp']),max(data['hp']), 100)"
      ],
      "execution_count": 0,
      "outputs": []
    },
    {
      "cell_type": "code",
      "metadata": {
        "id": "MqKf4PNAX9f3",
        "colab_type": "code",
        "colab": {
          "base_uri": "https://localhost:8080/",
          "height": 283
        },
        "outputId": "7e33cc02-50e9-4f55-eb78-cd7ebc19d265"
      },
      "source": [
        "plt.plot(myline, mymodel(myline))\n",
        "plt.scatter(data['hp'], data['mpg'], alpha=0.6)\n",
        "plt.xlabel('hp')\n",
        "plt.ylabel('mpg')\n",
        "plt.show()"
      ],
      "execution_count": 38,
      "outputs": [
        {
          "output_type": "display_data",
          "data": {
            "image/png": "[encoded data removed]",
            "text/plain": [
              "<Figure size 432x288 with 1 Axes>"
            ]
          },
          "metadata": {
            "tags": [],
            "needs_background": "light"
          }
        }
      ]
    },
    {
      "cell_type": "code",
      "metadata": {
        "id": "HHatFH70YImI",
        "colab_type": "code",
        "colab": {
          "base_uri": "https://localhost:8080/",
          "height": 34
        },
        "outputId": "cd093e64-0745-4907-be23-eea11fc66f7c"
      },
      "source": [
        "print(r2_score(data['mpg'], mymodel(data['hp'])))"
      ],
      "execution_count": 39,
      "outputs": [
        {
          "output_type": "stream",
          "text": [
            "0.7605734658145943\n"
          ],
          "name": "stdout"
        }
      ]
    },
    {
      "cell_type": "markdown",
      "metadata": {
        "id": "mAx9u5OfSa5G",
        "colab_type": "text"
      },
      "source": [
        "**Apakah ada hubungan antara variabel 'mpg' dan variabel 'hp' dengan variabel 'cyl'?**\n",
        "\n",
        "Dengan menambahkan warna pada **scatter plot** sebagai representasi dari variabel **cyl**, didapatkan insight bahwa konsumsi bahan bakar akan lebih hemat jika suatu mobil mempunyai jumlah **cylinder** yang lebih sedikit dan **horsepower** yang lebih rendah."
      ]
    },
    {
      "cell_type": "code",
      "metadata": {
        "id": "GdT8FLCZCd3j",
        "colab_type": "code",
        "colab": {
          "base_uri": "https://localhost:8080/",
          "height": 283
        },
        "outputId": "76f28c4f-cebd-4a41-8e42-9094def98861"
      },
      "source": [
        "scatter = plt.scatter(data['hp'], data['mpg'], c=data['cyl'], alpha=0.6)\n",
        "plt.plot(myline, mymodel(myline))\n",
        "legend1 = plt.legend(handles=scatter.legend_elements()[0], \n",
        "                     labels=[str(i) for i in np.unique(data['cyl'])],\n",
        "                     title='cyl',\n",
        "                     fancybox=True,\n",
        "                     loc=1)\n",
        "plt.xlabel('hp')\n",
        "plt.ylabel('mpg')\n",
        "plt.show()"
      ],
      "execution_count": 40,
      "outputs": [
        {
          "output_type": "display_data",
          "data": {
            "image/png": "[encoded data removed]",
            "text/plain": [
              "<Figure size 432x288 with 1 Axes>"
            ]
          },
          "metadata": {
            "tags": [],
            "needs_background": "light"
          }
        }
      ]
    },
    {
      "cell_type": "markdown",
      "metadata": {
        "id": "fIYO6XqyZ_r4",
        "colab_type": "text"
      },
      "source": [
        ""
      ]
    },
    {
      "cell_type": "code",
      "metadata": {
        "id": "Gq0oD97TJNx_",
        "colab_type": "code",
        "colab": {}
      },
      "source": [
        "scaler = MinMaxScaler(feature_range=(0,250))\n",
        "wt_scaler = scaler.fit_transform(np.array(data['wt']).reshape(-1,1))"
      ],
      "execution_count": 0,
      "outputs": []
    },
    {
      "cell_type": "code",
      "metadata": {
        "id": "FAOd4o9vZvw0",
        "colab_type": "code",
        "colab": {}
      },
      "source": [
        "scatter = plt.scatter(data['hp'], data['mpg'], c=data['cyl'], \n",
        "                      s=wt_scaler, alpha=0.6)\n",
        "plt.plot(myline, mymodel(myline))\n",
        "legend1 = plt.legend(handles=scatter.legend_elements()[0], \n",
        "                     labels=[str(i) for i in np.unique(data['cyl'])],\n",
        "                     title='cyl',\n",
        "                     fancybox=True,\n",
        "                     loc=1)\n",
        "handles, labels = scatter.legend_elements(prop='sizes', num=4, alpha=0.6)\n",
        "plt.legend(handles, labels, loc=3, title='weight')\n",
        "plt.gca().add_artist(legend1)\n",
        "plt.xlabel('hp')\n",
        "plt.ylabel('mpg')\n",
        "plt.show()"
      ],
      "execution_count": 0,
      "outputs": []
    }
  ]
}